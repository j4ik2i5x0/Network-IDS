{
  "nbformat": 4,
  "nbformat_minor": 0,
  "metadata": {
    "colab": {
      "provenance": [],
      "gpuType": "V28",
      "authorship_tag": "ABX9TyMFOd5qFlHKsJS9J743aFp1",
      "include_colab_link": true
    },
    "kernelspec": {
      "name": "python3",
      "display_name": "Python 3"
    },
    "language_info": {
      "name": "python"
    },
    "accelerator": "TPU"
  },
  "cells": [
    {
      "cell_type": "markdown",
      "metadata": {
        "id": "view-in-github",
        "colab_type": "text"
      },
      "source": [
        "<a href=\"https://colab.research.google.com/github/j4ik2i5x0/Network-IDS/blob/main/test_code.ipynb\" target=\"_parent\"><img src=\"https://colab.research.google.com/assets/colab-badge.svg\" alt=\"Open In Colab\"/></a>"
      ]
    },
    {
      "cell_type": "code",
      "execution_count": null,
      "metadata": {
        "id": "xNZjZ4IwOhS-"
      },
      "outputs": [],
      "source": [
        "import numpy as np\n",
        "import pandas as pd\n",
        "from tensorflow.keras.models import load_model\n",
        "\n"
      ]
    },
    {
      "cell_type": "code",
      "source": [
        "from google.colab import drive\n",
        "drive.mount('/content/drive')"
      ],
      "metadata": {
        "colab": {
          "base_uri": "https://localhost:8080/"
        },
        "id": "6Qk4hC6SRswf",
        "outputId": "902c0049-bd9f-4116-9d68-e8be71e40c59"
      },
      "execution_count": null,
      "outputs": [
        {
          "output_type": "stream",
          "name": "stdout",
          "text": [
            "Mounted at /content/drive\n"
          ]
        }
      ]
    },
    {
      "cell_type": "code",
      "source": [
        "# Load the trained CNN model\n",
        "model = load_model(\"/content/drive/MyDrive/model_path/cnn_model.h5\")\n",
        "\n"
      ],
      "metadata": {
        "id": "2j9loylnVo9Z"
      },
      "execution_count": null,
      "outputs": []
    },
    {
      "cell_type": "code",
      "source": [
        "# Provided conten\n",
        "attack_features= \" -0.398724602\t-0.470734544\t-0.011680405\t-0.010000019\t-0.057588609\t-0.007561065\t-0.302966332\t-0.282832338\t-0.314422694\t-0.260373326\t-0.475189967\t-0.523981287\t-0.528780282\t-0.427223433\t0\t0\t-0.308678724\t-0.387498996\t-0.400840267\t-0.056504037\t-0.461967363\t-0.291349869\t-0.361598017\t-0.393507214\t-0.125317458\t-0.367403849\t-0.215798239\t-0.251591547\t-0.290517189\t-0.123421942\t-0.226351781\t0\t-0.005631811\t0\t0.001309532\t0.001672911\t-0.103520501\t0.375627763\t-0.579524218\t-0.498349452\t-0.588165788\t-0.495947238\t-0.314190964\t-0.182248688\t-0.226351781\t-0.016493671\t1.536595991\t-0.673709517\t-0.335970646\t-0.005631811\t-0.016529706\t0.430800516\t-0.600145492\t-0.314422694\t-0.528780282\t0.001309532\t0\t0\t0\t0\t0\t0\t-0.011680405\t-0.057665533\t-0.010000019\t-0.007561009\t-0.427549005\t-0.249856768\t-0.008908115\t0.002700803\t-0.1333278\t-0.110847321\t-0.158407316\t-0.107080333\t-0.375643699\t-0.116043645\t-0.381002021\t-0.361636875\"\n",
        "\n",
        "array = attack_features.split(\"\\t\")\n",
        "input_data = [float(value) for value in array]\n"
      ],
      "metadata": {
        "id": "mgI7PD6oUQKG"
      },
      "execution_count": null,
      "outputs": []
    },
    {
      "cell_type": "code",
      "source": [
        "input_data_array = np.array(input_data)\n",
        "\n",
        "# Reshape the input data according to the model's input shape\n",
        "input_data_reshaped = input_data_array.reshape(1, -1)\n",
        "\n",
        "\n",
        "prediction = model.predict(input_data_reshaped)\n",
        "\n"
      ],
      "metadata": {
        "id": "XMZIweXiTRFc"
      },
      "execution_count": null,
      "outputs": []
    },
    {
      "cell_type": "code",
      "source": [
        "attack_mapping = {\n",
        "    0: \"BENIGN\",\n",
        "    4: \"DoS Hulk\",\n",
        "    2: \"DDoS\",\n",
        "    10: \"PortScan\",\n",
        "    3: \"DoS GoldenEye\",\n",
        "    7: \"FTP-Patator\",\n",
        "    6: \"DoS slowloris\",\n",
        "    5: \"DoS Slowhttptest\",\n",
        "    11: \"SSH-Patator\",\n",
        "    1: \"Bot\",\n",
        "    12: \"Web Attack - Brute Force\",\n",
        "    14: \"Web Attack - XSS\",\n",
        "    9: \"Infiltration\",\n",
        "    13: \"Web Attack - Sql Injection\",\n",
        "    8: \"Heartbleed\"\n",
        "}\n",
        "\n",
        "predicted_label = np.argmax(prediction)\n",
        "predicted_attack_type = attack_mapping[predicted_label]\n",
        "\n",
        "# Display the randomly chosen input data and the predicted attack type\n",
        "print(\"Randomly chosen input data:\", input_data)\n",
        "print(\"Predicted Attack Type:\", predicted_attack_type)\n"
      ],
      "metadata": {
        "id": "txPXuqM8RjC-"
      },
      "execution_count": null,
      "outputs": []
    }
  ]
}